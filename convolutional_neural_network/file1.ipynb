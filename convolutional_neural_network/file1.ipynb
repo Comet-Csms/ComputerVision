{
 "cells": [
  {
   "cell_type": "code",
   "execution_count": 1,
   "metadata": {},
   "outputs": [],
   "source": [
    "import numpy as np\n",
    "import tensorflow as tf\n",
    "import tensorflow.keras.datasets as ds\n",
    "\n",
    "from tensorflow.keras.models import Sequential\n",
    "from tensorflow.keras.layers import Conv2D, MaxPooling2D, Flatten, Dropout, Dense\n",
    "from tensorflow.keras.optimizers import Adam"
   ]
  },
  {
   "cell_type": "code",
   "execution_count": 2,
   "metadata": {},
   "outputs": [],
   "source": [
    "# 데이터 준비\n",
    "(x_train, y_train), (x_test, y_test) = ds.mnist.load_data() # MNIST: 필기 숫자 데이터셋\n",
    "x_train = x_train.reshape(60000, 28, 28, 1)\n",
    "x_test = x_test.reshape(10000, 28, 28, 1)\n",
    "x_train = x_train.astype(np.float32)/255.0 # [0,1]로 정규화\n",
    "x_test = x_test.astype(np.float32)/255.0 # [0,1]로 정규화\n",
    "y_train = tf.keras.utils.to_categorical(y_train, 10) # 원핫 코드로 변환\n",
    "y_test = tf.keras.utils.to_categorical(y_test, 10) # 원핫 코드로 변환"
   ]
  },
  {
   "cell_type": "code",
   "execution_count": 3,
   "metadata": {},
   "outputs": [
    {
     "name": "stderr",
     "output_type": "stream",
     "text": [
      "c:\\Users\\GreenTea\\anaconda3\\envs\\Test\\Lib\\site-packages\\keras\\src\\layers\\convolutional\\base_conv.py:107: UserWarning: Do not pass an `input_shape`/`input_dim` argument to a layer. When using Sequential models, prefer using an `Input(shape)` object as the first layer in the model instead.\n",
      "  super().__init__(activity_regularizer=activity_regularizer, **kwargs)\n"
     ]
    }
   ],
   "source": [
    "# 모델 선택(신경망 구조 설계)\n",
    "cnn = Sequential()\n",
    "cnn.add(Conv2D(6,(5,5), padding=\"same\", activation=\"relu\", input_shape=(28,28,1))) # 컨볼루션층(5*5 커널을 6개 사용)\n",
    "cnn.add(MaxPooling2D(pool_size=(2,2), strides=2))\n",
    "cnn.add(Conv2D(16,(5,5),padding=\"valid\", activation=\"relu\"))\n",
    "cnn.add(MaxPooling2D(pool_size=(2,2), strides=2))\n",
    "cnn.add(Conv2D(120,(5,5),padding=\"valid\", activation=\"relu\"))\n",
    "cnn.add(Flatten()) # 1차원 구조로 변환\n",
    "cnn.add(Dense(units=84, activation=\"relu\"))\n",
    "cnn.add(Dense(units=10, activation=\"softmax\"))"
   ]
  },
  {
   "cell_type": "code",
   "execution_count": 4,
   "metadata": {},
   "outputs": [
    {
     "name": "stdout",
     "output_type": "stream",
     "text": [
      "Epoch 1/30\n",
      "469/469 - 10s - 22ms/step - accuracy: 0.9028 - loss: 0.3260 - val_accuracy: 0.9729 - val_loss: 0.0916\n",
      "Epoch 2/30\n",
      "469/469 - 5s - 11ms/step - accuracy: 0.9734 - loss: 0.0855 - val_accuracy: 0.9829 - val_loss: 0.0565\n",
      "Epoch 3/30\n",
      "469/469 - 5s - 11ms/step - accuracy: 0.9814 - loss: 0.0595 - val_accuracy: 0.9832 - val_loss: 0.0529\n",
      "Epoch 4/30\n",
      "469/469 - 5s - 11ms/step - accuracy: 0.9856 - loss: 0.0469 - val_accuracy: 0.9863 - val_loss: 0.0434\n",
      "Epoch 5/30\n",
      "469/469 - 5s - 11ms/step - accuracy: 0.9876 - loss: 0.0392 - val_accuracy: 0.9895 - val_loss: 0.0333\n",
      "Epoch 6/30\n",
      "469/469 - 5s - 11ms/step - accuracy: 0.9891 - loss: 0.0343 - val_accuracy: 0.9886 - val_loss: 0.0356\n",
      "Epoch 7/30\n",
      "469/469 - 5s - 11ms/step - accuracy: 0.9906 - loss: 0.0293 - val_accuracy: 0.9862 - val_loss: 0.0455\n",
      "Epoch 8/30\n",
      "469/469 - 5s - 11ms/step - accuracy: 0.9919 - loss: 0.0258 - val_accuracy: 0.9890 - val_loss: 0.0342\n",
      "Epoch 9/30\n",
      "469/469 - 5s - 11ms/step - accuracy: 0.9923 - loss: 0.0229 - val_accuracy: 0.9879 - val_loss: 0.0414\n",
      "Epoch 10/30\n",
      "469/469 - 5s - 11ms/step - accuracy: 0.9933 - loss: 0.0199 - val_accuracy: 0.9891 - val_loss: 0.0338\n",
      "Epoch 11/30\n",
      "469/469 - 5s - 11ms/step - accuracy: 0.9943 - loss: 0.0172 - val_accuracy: 0.9872 - val_loss: 0.0396\n",
      "Epoch 12/30\n",
      "469/469 - 5s - 11ms/step - accuracy: 0.9945 - loss: 0.0165 - val_accuracy: 0.9923 - val_loss: 0.0281\n",
      "Epoch 13/30\n",
      "469/469 - 5s - 11ms/step - accuracy: 0.9951 - loss: 0.0149 - val_accuracy: 0.9894 - val_loss: 0.0344\n",
      "Epoch 14/30\n",
      "469/469 - 5s - 11ms/step - accuracy: 0.9962 - loss: 0.0110 - val_accuracy: 0.9893 - val_loss: 0.0372\n",
      "Epoch 15/30\n",
      "469/469 - 5s - 11ms/step - accuracy: 0.9958 - loss: 0.0125 - val_accuracy: 0.9867 - val_loss: 0.0493\n",
      "Epoch 16/30\n",
      "469/469 - 5s - 11ms/step - accuracy: 0.9960 - loss: 0.0116 - val_accuracy: 0.9874 - val_loss: 0.0455\n",
      "Epoch 17/30\n",
      "469/469 - 5s - 11ms/step - accuracy: 0.9973 - loss: 0.0082 - val_accuracy: 0.9857 - val_loss: 0.0516\n",
      "Epoch 18/30\n",
      "469/469 - 5s - 11ms/step - accuracy: 0.9965 - loss: 0.0106 - val_accuracy: 0.9905 - val_loss: 0.0371\n",
      "Epoch 19/30\n",
      "469/469 - 5s - 11ms/step - accuracy: 0.9973 - loss: 0.0084 - val_accuracy: 0.9901 - val_loss: 0.0363\n",
      "Epoch 20/30\n",
      "469/469 - 5s - 11ms/step - accuracy: 0.9977 - loss: 0.0070 - val_accuracy: 0.9882 - val_loss: 0.0487\n",
      "Epoch 21/30\n",
      "469/469 - 5s - 11ms/step - accuracy: 0.9980 - loss: 0.0059 - val_accuracy: 0.9914 - val_loss: 0.0385\n",
      "Epoch 22/30\n",
      "469/469 - 5s - 11ms/step - accuracy: 0.9977 - loss: 0.0065 - val_accuracy: 0.9881 - val_loss: 0.0493\n",
      "Epoch 23/30\n",
      "469/469 - 5s - 11ms/step - accuracy: 0.9970 - loss: 0.0085 - val_accuracy: 0.9910 - val_loss: 0.0416\n",
      "Epoch 24/30\n",
      "469/469 - 5s - 11ms/step - accuracy: 0.9974 - loss: 0.0072 - val_accuracy: 0.9904 - val_loss: 0.0415\n",
      "Epoch 25/30\n",
      "469/469 - 5s - 12ms/step - accuracy: 0.9987 - loss: 0.0039 - val_accuracy: 0.9912 - val_loss: 0.0379\n",
      "Epoch 26/30\n",
      "469/469 - 5s - 11ms/step - accuracy: 0.9975 - loss: 0.0073 - val_accuracy: 0.9904 - val_loss: 0.0439\n",
      "Epoch 27/30\n",
      "469/469 - 5s - 11ms/step - accuracy: 0.9988 - loss: 0.0035 - val_accuracy: 0.9902 - val_loss: 0.0445\n",
      "Epoch 28/30\n",
      "469/469 - 5s - 11ms/step - accuracy: 0.9978 - loss: 0.0065 - val_accuracy: 0.9896 - val_loss: 0.0467\n",
      "Epoch 29/30\n",
      "469/469 - 6s - 12ms/step - accuracy: 0.9985 - loss: 0.0045 - val_accuracy: 0.9883 - val_loss: 0.0552\n",
      "Epoch 30/30\n",
      "469/469 - 5s - 11ms/step - accuracy: 0.9984 - loss: 0.0051 - val_accuracy: 0.9894 - val_loss: 0.0494\n"
     ]
    },
    {
     "data": {
      "text/plain": [
       "<keras.src.callbacks.history.History at 0x1b37be3f7d0>"
      ]
     },
     "execution_count": 4,
     "metadata": {},
     "output_type": "execute_result"
    }
   ],
   "source": [
    "# 학습\n",
    "cnn.compile(loss=\"categorical_crossentropy\", optimizer=Adam(learning_rate=0.001), metrics=[\"accuracy\"])\n",
    "cnn.fit(x_train, y_train, batch_size=128, epochs=30, validation_data=(x_test, y_test), verbose=2)"
   ]
  },
  {
   "cell_type": "code",
   "execution_count": 5,
   "metadata": {},
   "outputs": [
    {
     "name": "stdout",
     "output_type": "stream",
     "text": [
      "정확률= 98.94000291824341\n"
     ]
    }
   ],
   "source": [
    "# 예측(성능 측정)\n",
    "res = cnn.evaluate(x_test, y_test, verbose=0)\n",
    "print(\"정확률=\", res[1]*100)"
   ]
  }
 ],
 "metadata": {
  "kernelspec": {
   "display_name": "Test",
   "language": "python",
   "name": "python3"
  },
  "language_info": {
   "codemirror_mode": {
    "name": "ipython",
    "version": 3
   },
   "file_extension": ".py",
   "mimetype": "text/x-python",
   "name": "python",
   "nbconvert_exporter": "python",
   "pygments_lexer": "ipython3",
   "version": "3.11.5"
  }
 },
 "nbformat": 4,
 "nbformat_minor": 2
}
