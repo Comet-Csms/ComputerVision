{
 "cells": [
  {
   "cell_type": "code",
   "execution_count": 1,
   "metadata": {},
   "outputs": [],
   "source": [
    "import numpy as np\n",
    "import tensorflow as tf\n",
    "import tensorflow.keras.datasets as ds\n",
    "\n",
    "from tensorflow.keras.models import Sequential\n",
    "from tensorflow.keras.layers import Dense\n",
    "from tensorflow.keras.optimizers import Adam"
   ]
  },
  {
   "cell_type": "code",
   "execution_count": 2,
   "metadata": {},
   "outputs": [],
   "source": [
    "# 데이터 준비\n",
    "(x_train, y_train), (x_test, y_test) = ds.mnist.load_data() # MNIST: 필기 숫자 데이터셋\n",
    "x_train = x_train.reshape(60000, 784) # 1차원 구조로 변환\n",
    "x_test = x_test.reshape(10000, 784) # 1차원 구조로 변환\n",
    "x_train = x_train.astype(np.float32)/255.0 # [0,1]로 정규화\n",
    "x_test = x_test.astype(np.float32)/255.0 # [0,1]로 정규화\n",
    "y_train = tf.keras.utils.to_categorical(y_train, 10) # 원핫 코드로 변환\n",
    "y_test = tf.keras.utils.to_categorical(y_test, 10) # 원핫 코드로 변환"
   ]
  },
  {
   "cell_type": "code",
   "execution_count": 3,
   "metadata": {},
   "outputs": [
    {
     "name": "stderr",
     "output_type": "stream",
     "text": [
      "c:\\Users\\GreenTea\\anaconda3\\envs\\Test\\Lib\\site-packages\\keras\\src\\layers\\core\\dense.py:87: UserWarning: Do not pass an `input_shape`/`input_dim` argument to a layer. When using Sequential models, prefer using an `Input(shape)` object as the first layer in the model instead.\n",
      "  super().__init__(activity_regularizer=activity_regularizer, **kwargs)\n"
     ]
    }
   ],
   "source": [
    "# 모델 선택(신경망 구조 설계)\n",
    "mlp = Sequential()\n",
    "mlp.add(Dense(units=512, activation=\"tanh\", input_shape=(784,))) # 은닉층 노드 개수 512 / 은닉층 활성 함수 tanh / 입력층 모양\n",
    "mlp.add(Dense(units=10, activation=\"softmax\")) # 출력층 노드 개수 10 / 출력층 활성 함수 softmax"
   ]
  },
  {
   "cell_type": "code",
   "execution_count": 4,
   "metadata": {},
   "outputs": [
    {
     "name": "stdout",
     "output_type": "stream",
     "text": [
      "Epoch 1/50\n",
      "469/469 - 5s - 11ms/step - accuracy: 0.9008 - loss: 0.0150 - val_accuracy: 0.9341 - val_loss: 0.0100\n",
      "Epoch 2/50\n",
      "469/469 - 3s - 7ms/step - accuracy: 0.9426 - loss: 0.0089 - val_accuracy: 0.9514 - val_loss: 0.0077\n",
      "Epoch 3/50\n",
      "469/469 - 4s - 8ms/step - accuracy: 0.9577 - loss: 0.0067 - val_accuracy: 0.9594 - val_loss: 0.0062\n",
      "Epoch 4/50\n",
      "469/469 - 3s - 7ms/step - accuracy: 0.9688 - loss: 0.0051 - val_accuracy: 0.9670 - val_loss: 0.0050\n",
      "Epoch 5/50\n",
      "469/469 - 3s - 7ms/step - accuracy: 0.9745 - loss: 0.0042 - val_accuracy: 0.9684 - val_loss: 0.0048\n",
      "Epoch 6/50\n",
      "469/469 - 4s - 8ms/step - accuracy: 0.9793 - loss: 0.0034 - val_accuracy: 0.9704 - val_loss: 0.0045\n",
      "Epoch 7/50\n",
      "469/469 - 3s - 7ms/step - accuracy: 0.9824 - loss: 0.0029 - val_accuracy: 0.9746 - val_loss: 0.0038\n",
      "Epoch 8/50\n",
      "469/469 - 3s - 7ms/step - accuracy: 0.9860 - loss: 0.0024 - val_accuracy: 0.9768 - val_loss: 0.0036\n",
      "Epoch 9/50\n",
      "469/469 - 3s - 7ms/step - accuracy: 0.9888 - loss: 0.0020 - val_accuracy: 0.9749 - val_loss: 0.0038\n",
      "Epoch 10/50\n",
      "469/469 - 3s - 7ms/step - accuracy: 0.9902 - loss: 0.0017 - val_accuracy: 0.9796 - val_loss: 0.0032\n",
      "Epoch 11/50\n",
      "469/469 - 3s - 7ms/step - accuracy: 0.9922 - loss: 0.0014 - val_accuracy: 0.9761 - val_loss: 0.0036\n",
      "Epoch 12/50\n",
      "469/469 - 3s - 7ms/step - accuracy: 0.9935 - loss: 0.0012 - val_accuracy: 0.9821 - val_loss: 0.0029\n",
      "Epoch 13/50\n",
      "469/469 - 3s - 7ms/step - accuracy: 0.9946 - loss: 0.0011 - val_accuracy: 0.9795 - val_loss: 0.0031\n",
      "Epoch 14/50\n",
      "469/469 - 3s - 7ms/step - accuracy: 0.9954 - loss: 8.8305e-04 - val_accuracy: 0.9809 - val_loss: 0.0030\n",
      "Epoch 15/50\n",
      "469/469 - 3s - 7ms/step - accuracy: 0.9960 - loss: 7.6490e-04 - val_accuracy: 0.9819 - val_loss: 0.0028\n",
      "Epoch 16/50\n",
      "469/469 - 3s - 7ms/step - accuracy: 0.9963 - loss: 7.2751e-04 - val_accuracy: 0.9819 - val_loss: 0.0029\n",
      "Epoch 17/50\n",
      "469/469 - 3s - 7ms/step - accuracy: 0.9971 - loss: 5.9096e-04 - val_accuracy: 0.9816 - val_loss: 0.0029\n",
      "Epoch 18/50\n",
      "469/469 - 5s - 11ms/step - accuracy: 0.9974 - loss: 5.2125e-04 - val_accuracy: 0.9778 - val_loss: 0.0034\n",
      "Epoch 19/50\n",
      "469/469 - 3s - 7ms/step - accuracy: 0.9971 - loss: 5.7119e-04 - val_accuracy: 0.9790 - val_loss: 0.0032\n",
      "Epoch 20/50\n",
      "469/469 - 3s - 7ms/step - accuracy: 0.9975 - loss: 5.0089e-04 - val_accuracy: 0.9818 - val_loss: 0.0028\n",
      "Epoch 21/50\n",
      "469/469 - 3s - 7ms/step - accuracy: 0.9979 - loss: 4.3268e-04 - val_accuracy: 0.9798 - val_loss: 0.0030\n",
      "Epoch 22/50\n",
      "469/469 - 3s - 7ms/step - accuracy: 0.9977 - loss: 4.4162e-04 - val_accuracy: 0.9799 - val_loss: 0.0030\n",
      "Epoch 23/50\n",
      "469/469 - 3s - 7ms/step - accuracy: 0.9976 - loss: 4.5255e-04 - val_accuracy: 0.9822 - val_loss: 0.0028\n",
      "Epoch 24/50\n",
      "469/469 - 3s - 7ms/step - accuracy: 0.9977 - loss: 4.2912e-04 - val_accuracy: 0.9804 - val_loss: 0.0030\n",
      "Epoch 25/50\n",
      "469/469 - 3s - 7ms/step - accuracy: 0.9984 - loss: 3.2299e-04 - val_accuracy: 0.9820 - val_loss: 0.0028\n",
      "Epoch 26/50\n",
      "469/469 - 3s - 7ms/step - accuracy: 0.9978 - loss: 4.1735e-04 - val_accuracy: 0.9822 - val_loss: 0.0028\n",
      "Epoch 27/50\n",
      "469/469 - 4s - 8ms/step - accuracy: 0.9985 - loss: 2.9797e-04 - val_accuracy: 0.9820 - val_loss: 0.0028\n",
      "Epoch 28/50\n",
      "469/469 - 4s - 8ms/step - accuracy: 0.9984 - loss: 2.9864e-04 - val_accuracy: 0.9807 - val_loss: 0.0031\n",
      "Epoch 29/50\n",
      "469/469 - 3s - 7ms/step - accuracy: 0.9982 - loss: 3.4975e-04 - val_accuracy: 0.9798 - val_loss: 0.0031\n",
      "Epoch 30/50\n",
      "469/469 - 3s - 7ms/step - accuracy: 0.9984 - loss: 3.0501e-04 - val_accuracy: 0.9816 - val_loss: 0.0029\n",
      "Epoch 31/50\n",
      "469/469 - 3s - 7ms/step - accuracy: 0.9988 - loss: 2.4097e-04 - val_accuracy: 0.9816 - val_loss: 0.0030\n",
      "Epoch 32/50\n",
      "469/469 - 3s - 7ms/step - accuracy: 0.9988 - loss: 2.2866e-04 - val_accuracy: 0.9820 - val_loss: 0.0028\n",
      "Epoch 33/50\n",
      "469/469 - 3s - 7ms/step - accuracy: 0.9973 - loss: 4.7209e-04 - val_accuracy: 0.9813 - val_loss: 0.0029\n",
      "Epoch 34/50\n",
      "469/469 - 3s - 7ms/step - accuracy: 0.9987 - loss: 2.4259e-04 - val_accuracy: 0.9819 - val_loss: 0.0028\n",
      "Epoch 35/50\n",
      "469/469 - 3s - 7ms/step - accuracy: 0.9990 - loss: 2.0310e-04 - val_accuracy: 0.9825 - val_loss: 0.0029\n",
      "Epoch 36/50\n",
      "469/469 - 3s - 7ms/step - accuracy: 0.9988 - loss: 2.2233e-04 - val_accuracy: 0.9817 - val_loss: 0.0028\n",
      "Epoch 37/50\n",
      "469/469 - 3s - 7ms/step - accuracy: 0.9983 - loss: 3.1457e-04 - val_accuracy: 0.9819 - val_loss: 0.0029\n",
      "Epoch 38/50\n",
      "469/469 - 3s - 7ms/step - accuracy: 0.9989 - loss: 2.1349e-04 - val_accuracy: 0.9799 - val_loss: 0.0031\n",
      "Epoch 39/50\n",
      "469/469 - 3s - 7ms/step - accuracy: 0.9981 - loss: 3.4145e-04 - val_accuracy: 0.9807 - val_loss: 0.0031\n",
      "Epoch 40/50\n",
      "469/469 - 3s - 7ms/step - accuracy: 0.9987 - loss: 2.5995e-04 - val_accuracy: 0.9825 - val_loss: 0.0027\n",
      "Epoch 41/50\n",
      "469/469 - 3s - 7ms/step - accuracy: 0.9989 - loss: 1.9719e-04 - val_accuracy: 0.9826 - val_loss: 0.0028\n",
      "Epoch 42/50\n",
      "469/469 - 3s - 7ms/step - accuracy: 0.9988 - loss: 2.2068e-04 - val_accuracy: 0.9825 - val_loss: 0.0028\n",
      "Epoch 43/50\n",
      "469/469 - 4s - 8ms/step - accuracy: 0.9991 - loss: 1.7363e-04 - val_accuracy: 0.9814 - val_loss: 0.0028\n",
      "Epoch 44/50\n",
      "469/469 - 4s - 8ms/step - accuracy: 0.9990 - loss: 1.8463e-04 - val_accuracy: 0.9825 - val_loss: 0.0028\n",
      "Epoch 45/50\n",
      "469/469 - 3s - 7ms/step - accuracy: 0.9980 - loss: 3.5955e-04 - val_accuracy: 0.9802 - val_loss: 0.0032\n",
      "Epoch 46/50\n",
      "469/469 - 4s - 8ms/step - accuracy: 0.9984 - loss: 2.8506e-04 - val_accuracy: 0.9822 - val_loss: 0.0028\n",
      "Epoch 47/50\n",
      "469/469 - 3s - 7ms/step - accuracy: 0.9991 - loss: 1.6956e-04 - val_accuracy: 0.9822 - val_loss: 0.0028\n",
      "Epoch 48/50\n",
      "469/469 - 4s - 8ms/step - accuracy: 0.9985 - loss: 2.5863e-04 - val_accuracy: 0.9767 - val_loss: 0.0037\n",
      "Epoch 49/50\n",
      "469/469 - 4s - 8ms/step - accuracy: 0.9984 - loss: 2.8060e-04 - val_accuracy: 0.9809 - val_loss: 0.0031\n",
      "Epoch 50/50\n",
      "469/469 - 5s - 10ms/step - accuracy: 0.9988 - loss: 2.1096e-04 - val_accuracy: 0.9828 - val_loss: 0.0028\n"
     ]
    },
    {
     "data": {
      "text/plain": [
       "<keras.src.callbacks.history.History at 0x21e80c0eed0>"
      ]
     },
     "execution_count": 4,
     "metadata": {},
     "output_type": "execute_result"
    }
   ],
   "source": [
    "# 학습\n",
    "mlp.compile(loss=\"MSE\", optimizer=Adam(learning_rate=0.001), metrics=[\"accuracy\"]) # MSE 손실 함수 / Adam 옵티마이저 / 학습률 / 평가지표:정확도\n",
    "mlp.fit(x_train, y_train, batch_size=128, epochs=50, validation_data=(x_test, y_test), verbose=2) # 훈련 집합 / 미니 배치 크기 / 훈련횟수 / 검증 집합"
   ]
  },
  {
   "cell_type": "code",
   "execution_count": 5,
   "metadata": {},
   "outputs": [
    {
     "name": "stdout",
     "output_type": "stream",
     "text": [
      "정확률= 98.28000068664551\n"
     ]
    }
   ],
   "source": [
    "# 예측(성능 측정)\n",
    "res = mlp.evaluate(x_test, y_test, verbose=0)\n",
    "print(\"정확률=\", res[1]*100)"
   ]
  }
 ],
 "metadata": {
  "kernelspec": {
   "display_name": "Test",
   "language": "python",
   "name": "python3"
  },
  "language_info": {
   "codemirror_mode": {
    "name": "ipython",
    "version": 3
   },
   "file_extension": ".py",
   "mimetype": "text/x-python",
   "name": "python",
   "nbconvert_exporter": "python",
   "pygments_lexer": "ipython3",
   "version": "3.11.5"
  }
 },
 "nbformat": 4,
 "nbformat_minor": 2
}
