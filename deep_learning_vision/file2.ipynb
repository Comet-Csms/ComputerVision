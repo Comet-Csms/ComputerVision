{
 "cells": [
  {
   "cell_type": "code",
   "execution_count": 1,
   "metadata": {},
   "outputs": [],
   "source": [
    "import numpy as np\n",
    "import tensorflow as tf\n",
    "import tensorflow.keras.datasets as ds\n",
    "\n",
    "from tensorflow.keras.models import Sequential\n",
    "from tensorflow.keras.layers import Dense\n",
    "from tensorflow.keras.optimizers import SGD"
   ]
  },
  {
   "cell_type": "code",
   "execution_count": 2,
   "metadata": {},
   "outputs": [],
   "source": [
    "# 데이터 준비\n",
    "(x_train, y_train), (x_test, y_test) = ds.mnist.load_data() # MNIST: 필기 숫자 데이터셋\n",
    "x_train = x_train.reshape(60000, 784) # 1차원 구조로 변환\n",
    "x_test = x_test.reshape(10000, 784) # 1차원 구조로 변환\n",
    "x_train = x_train.astype(np.float32)/255.0 # [0,1]로 정규화\n",
    "x_test = x_test.astype(np.float32)/255.0 # [0,1]로 정규화\n",
    "y_train = tf.keras.utils.to_categorical(y_train, 10) # 원핫 코드로 변환\n",
    "y_test = tf.keras.utils.to_categorical(y_test, 10) # 원핫 코드로 변환"
   ]
  },
  {
   "cell_type": "code",
   "execution_count": 3,
   "metadata": {},
   "outputs": [
    {
     "name": "stderr",
     "output_type": "stream",
     "text": [
      "c:\\Users\\GreenTea\\anaconda3\\envs\\Test\\Lib\\site-packages\\keras\\src\\layers\\core\\dense.py:87: UserWarning: Do not pass an `input_shape`/`input_dim` argument to a layer. When using Sequential models, prefer using an `Input(shape)` object as the first layer in the model instead.\n",
      "  super().__init__(activity_regularizer=activity_regularizer, **kwargs)\n"
     ]
    }
   ],
   "source": [
    "# 모델 선택(신경망 구조 설계)\n",
    "mlp = Sequential()\n",
    "mlp.add(Dense(units=512, activation=\"tanh\", input_shape=(784,))) # 은닉층 노드 개수 512 / 은닉층 활성 함수 tanh / 입력층 모양\n",
    "mlp.add(Dense(units=10, activation=\"softmax\")) # 출력층 노드 개수 10 / 출력층 활성 함수 softmax"
   ]
  },
  {
   "cell_type": "code",
   "execution_count": 4,
   "metadata": {},
   "outputs": [
    {
     "name": "stdout",
     "output_type": "stream",
     "text": [
      "Epoch 1/50\n",
      "469/469 - 3s - 7ms/step - accuracy: 0.2455 - loss: 0.0874 - val_accuracy: 0.3393 - val_loss: 0.0843\n",
      "Epoch 2/50\n",
      "469/469 - 2s - 5ms/step - accuracy: 0.3895 - loss: 0.0817 - val_accuracy: 0.4496 - val_loss: 0.0779\n",
      "Epoch 3/50\n",
      "469/469 - 2s - 5ms/step - accuracy: 0.4715 - loss: 0.0751 - val_accuracy: 0.5420 - val_loss: 0.0707\n",
      "Epoch 4/50\n",
      "469/469 - 3s - 6ms/step - accuracy: 0.5817 - loss: 0.0677 - val_accuracy: 0.6347 - val_loss: 0.0630\n",
      "Epoch 5/50\n",
      "469/469 - 3s - 6ms/step - accuracy: 0.6488 - loss: 0.0605 - val_accuracy: 0.6847 - val_loss: 0.0565\n",
      "Epoch 6/50\n",
      "469/469 - 3s - 6ms/step - accuracy: 0.6999 - loss: 0.0547 - val_accuracy: 0.7320 - val_loss: 0.0512\n",
      "Epoch 7/50\n",
      "469/469 - 2s - 5ms/step - accuracy: 0.7369 - loss: 0.0500 - val_accuracy: 0.7662 - val_loss: 0.0468\n",
      "Epoch 8/50\n",
      "469/469 - 3s - 6ms/step - accuracy: 0.7632 - loss: 0.0461 - val_accuracy: 0.7863 - val_loss: 0.0432\n",
      "Epoch 9/50\n",
      "469/469 - 2s - 5ms/step - accuracy: 0.7792 - loss: 0.0428 - val_accuracy: 0.8002 - val_loss: 0.0402\n",
      "Epoch 10/50\n",
      "469/469 - 2s - 5ms/step - accuracy: 0.7917 - loss: 0.0401 - val_accuracy: 0.8099 - val_loss: 0.0377\n",
      "Epoch 11/50\n",
      "469/469 - 3s - 5ms/step - accuracy: 0.8024 - loss: 0.0379 - val_accuracy: 0.8209 - val_loss: 0.0356\n",
      "Epoch 12/50\n",
      "469/469 - 2s - 5ms/step - accuracy: 0.8113 - loss: 0.0360 - val_accuracy: 0.8291 - val_loss: 0.0338\n",
      "Epoch 13/50\n",
      "469/469 - 2s - 5ms/step - accuracy: 0.8184 - loss: 0.0343 - val_accuracy: 0.8357 - val_loss: 0.0322\n",
      "Epoch 14/50\n",
      "469/469 - 3s - 5ms/step - accuracy: 0.8254 - loss: 0.0328 - val_accuracy: 0.8418 - val_loss: 0.0309\n",
      "Epoch 15/50\n",
      "469/469 - 3s - 6ms/step - accuracy: 0.8314 - loss: 0.0316 - val_accuracy: 0.8459 - val_loss: 0.0297\n",
      "Epoch 16/50\n",
      "469/469 - 3s - 5ms/step - accuracy: 0.8367 - loss: 0.0305 - val_accuracy: 0.8498 - val_loss: 0.0286\n",
      "Epoch 17/50\n",
      "469/469 - 3s - 6ms/step - accuracy: 0.8412 - loss: 0.0295 - val_accuracy: 0.8549 - val_loss: 0.0277\n",
      "Epoch 18/50\n",
      "469/469 - 2s - 5ms/step - accuracy: 0.8454 - loss: 0.0286 - val_accuracy: 0.8581 - val_loss: 0.0268\n",
      "Epoch 19/50\n",
      "469/469 - 3s - 6ms/step - accuracy: 0.8489 - loss: 0.0278 - val_accuracy: 0.8613 - val_loss: 0.0261\n",
      "Epoch 20/50\n",
      "469/469 - 3s - 6ms/step - accuracy: 0.8523 - loss: 0.0270 - val_accuracy: 0.8642 - val_loss: 0.0254\n",
      "Epoch 21/50\n",
      "469/469 - 3s - 6ms/step - accuracy: 0.8552 - loss: 0.0264 - val_accuracy: 0.8674 - val_loss: 0.0248\n",
      "Epoch 22/50\n",
      "469/469 - 3s - 6ms/step - accuracy: 0.8584 - loss: 0.0258 - val_accuracy: 0.8693 - val_loss: 0.0242\n",
      "Epoch 23/50\n",
      "469/469 - 3s - 6ms/step - accuracy: 0.8601 - loss: 0.0253 - val_accuracy: 0.8712 - val_loss: 0.0237\n",
      "Epoch 24/50\n",
      "469/469 - 3s - 6ms/step - accuracy: 0.8622 - loss: 0.0248 - val_accuracy: 0.8730 - val_loss: 0.0232\n",
      "Epoch 25/50\n",
      "469/469 - 3s - 5ms/step - accuracy: 0.8641 - loss: 0.0243 - val_accuracy: 0.8742 - val_loss: 0.0228\n",
      "Epoch 26/50\n",
      "469/469 - 3s - 6ms/step - accuracy: 0.8663 - loss: 0.0239 - val_accuracy: 0.8756 - val_loss: 0.0224\n",
      "Epoch 27/50\n",
      "469/469 - 3s - 6ms/step - accuracy: 0.8678 - loss: 0.0235 - val_accuracy: 0.8777 - val_loss: 0.0220\n",
      "Epoch 28/50\n",
      "469/469 - 3s - 6ms/step - accuracy: 0.8692 - loss: 0.0231 - val_accuracy: 0.8788 - val_loss: 0.0217\n",
      "Epoch 29/50\n",
      "469/469 - 3s - 6ms/step - accuracy: 0.8708 - loss: 0.0228 - val_accuracy: 0.8804 - val_loss: 0.0214\n",
      "Epoch 30/50\n",
      "469/469 - 3s - 6ms/step - accuracy: 0.8720 - loss: 0.0225 - val_accuracy: 0.8809 - val_loss: 0.0211\n",
      "Epoch 31/50\n",
      "469/469 - 3s - 6ms/step - accuracy: 0.8734 - loss: 0.0222 - val_accuracy: 0.8819 - val_loss: 0.0208\n",
      "Epoch 32/50\n",
      "469/469 - 3s - 6ms/step - accuracy: 0.8752 - loss: 0.0219 - val_accuracy: 0.8827 - val_loss: 0.0205\n",
      "Epoch 33/50\n",
      "469/469 - 3s - 5ms/step - accuracy: 0.8762 - loss: 0.0216 - val_accuracy: 0.8844 - val_loss: 0.0203\n",
      "Epoch 34/50\n",
      "469/469 - 3s - 6ms/step - accuracy: 0.8776 - loss: 0.0214 - val_accuracy: 0.8855 - val_loss: 0.0201\n",
      "Epoch 35/50\n",
      "469/469 - 3s - 6ms/step - accuracy: 0.8787 - loss: 0.0211 - val_accuracy: 0.8863 - val_loss: 0.0198\n",
      "Epoch 36/50\n",
      "469/469 - 3s - 6ms/step - accuracy: 0.8798 - loss: 0.0209 - val_accuracy: 0.8872 - val_loss: 0.0196\n",
      "Epoch 37/50\n",
      "469/469 - 3s - 6ms/step - accuracy: 0.8810 - loss: 0.0207 - val_accuracy: 0.8884 - val_loss: 0.0194\n",
      "Epoch 38/50\n",
      "469/469 - 3s - 6ms/step - accuracy: 0.8819 - loss: 0.0205 - val_accuracy: 0.8887 - val_loss: 0.0192\n",
      "Epoch 39/50\n",
      "469/469 - 3s - 6ms/step - accuracy: 0.8826 - loss: 0.0203 - val_accuracy: 0.8898 - val_loss: 0.0190\n",
      "Epoch 40/50\n",
      "469/469 - 3s - 6ms/step - accuracy: 0.8835 - loss: 0.0201 - val_accuracy: 0.8901 - val_loss: 0.0189\n",
      "Epoch 41/50\n",
      "469/469 - 3s - 6ms/step - accuracy: 0.8843 - loss: 0.0200 - val_accuracy: 0.8909 - val_loss: 0.0187\n",
      "Epoch 42/50\n",
      "469/469 - 3s - 6ms/step - accuracy: 0.8849 - loss: 0.0198 - val_accuracy: 0.8918 - val_loss: 0.0186\n",
      "Epoch 43/50\n",
      "469/469 - 3s - 6ms/step - accuracy: 0.8855 - loss: 0.0196 - val_accuracy: 0.8924 - val_loss: 0.0184\n",
      "Epoch 44/50\n",
      "469/469 - 3s - 6ms/step - accuracy: 0.8862 - loss: 0.0195 - val_accuracy: 0.8931 - val_loss: 0.0183\n",
      "Epoch 45/50\n",
      "469/469 - 3s - 6ms/step - accuracy: 0.8867 - loss: 0.0193 - val_accuracy: 0.8935 - val_loss: 0.0181\n",
      "Epoch 46/50\n",
      "469/469 - 3s - 6ms/step - accuracy: 0.8874 - loss: 0.0192 - val_accuracy: 0.8939 - val_loss: 0.0180\n",
      "Epoch 47/50\n",
      "469/469 - 3s - 5ms/step - accuracy: 0.8877 - loss: 0.0191 - val_accuracy: 0.8945 - val_loss: 0.0179\n",
      "Epoch 48/50\n",
      "469/469 - 3s - 6ms/step - accuracy: 0.8881 - loss: 0.0189 - val_accuracy: 0.8947 - val_loss: 0.0177\n",
      "Epoch 49/50\n",
      "469/469 - 3s - 5ms/step - accuracy: 0.8885 - loss: 0.0188 - val_accuracy: 0.8951 - val_loss: 0.0176\n",
      "Epoch 50/50\n",
      "469/469 - 3s - 6ms/step - accuracy: 0.8888 - loss: 0.0187 - val_accuracy: 0.8956 - val_loss: 0.0175\n"
     ]
    },
    {
     "data": {
      "text/plain": [
       "<keras.src.callbacks.history.History at 0x1ed81a2d750>"
      ]
     },
     "execution_count": 4,
     "metadata": {},
     "output_type": "execute_result"
    }
   ],
   "source": [
    "# 학습\n",
    "mlp.compile(loss=\"MSE\", optimizer=SGD(learning_rate=0.01), metrics=[\"accuracy\"]) # MSE 손실 함수 / SGD 옵티마이저 / 학습률 / 평가지표:정확도\n",
    "mlp.fit(x_train, y_train, batch_size=128, epochs=50, validation_data=(x_test, y_test), verbose=2) # 훈련 집합 / 미니 배치 크기 / 훈련횟수 / 검증 집합"
   ]
  },
  {
   "cell_type": "code",
   "execution_count": 5,
   "metadata": {},
   "outputs": [
    {
     "name": "stdout",
     "output_type": "stream",
     "text": [
      "정확률= 89.56000208854675\n"
     ]
    }
   ],
   "source": [
    "# 예측(성능 측정)\n",
    "res = mlp.evaluate(x_test, y_test, verbose=0)\n",
    "print(\"정확률=\", res[1]*100)"
   ]
  }
 ],
 "metadata": {
  "kernelspec": {
   "display_name": "Test",
   "language": "python",
   "name": "python3"
  },
  "language_info": {
   "codemirror_mode": {
    "name": "ipython",
    "version": 3
   },
   "file_extension": ".py",
   "mimetype": "text/x-python",
   "name": "python",
   "nbconvert_exporter": "python",
   "pygments_lexer": "ipython3",
   "version": "3.11.5"
  }
 },
 "nbformat": 4,
 "nbformat_minor": 2
}
